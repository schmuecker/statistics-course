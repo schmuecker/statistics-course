{
 "cells": [
  {
   "cell_type": "code",
   "execution_count": 34,
   "metadata": {},
   "outputs": [],
   "source": [
    "import numpy as np\n",
    "import matplotlib.pyplot as plt\n",
    "import seaborn as sns"
   ]
  },
  {
   "cell_type": "markdown",
   "metadata": {},
   "source": [
    "# Übungsblatt 1"
   ]
  },
  {
   "cell_type": "markdown",
   "metadata": {},
   "source": [
    "## Aufgabe 1.1 - TODO"
   ]
  },
  {
   "cell_type": "markdown",
   "metadata": {},
   "source": [
    "## Aufgabe 1.2 - Tiktok\n",
    "\n",
    "### 1.2.1\n",
    "\n",
    "Statistische Einheiten: ein Tiktok-Video\n",
    "\n",
    "Grundgesamtheit: alle Tiktok-Videos\n",
    "\n",
    "Stichprobe: Menge der untersuchten Tiktok-Videos\n",
    "\n",
    "Merkmale: \n",
    "- Views\n",
    "- Viewing Span\n",
    "- Titel\n",
    "- Likes\n",
    "- Shares\n",
    "- Comments\n",
    "- Duration\n",
    "- Upload date\n",
    "- Uploader\n",
    "- Videoqualität\n",
    "\n",
    "Beispielhafte Merkmalsausprägungen: \n",
    "- Views: 1.000.001\n",
    "- Viewing Span: 00:09 min\n",
    "- Titel: \"Perfekt\"\n",
    "- Likes: 14.000\n",
    "- Shares: 3.000\n",
    "- Comments: 1.000\n",
    "- Duration: 00:10 min\n",
    "- Upload date: 01.01.2022 10:00\n",
    "- Uploader: @benjimenji\n",
    "- Videoqualität: 720p\n",
    "\n",
    "Eigenschaften der Merkmale: \n",
    "- Views: quantitativ diskret\n",
    "- Viewing Span: quantitativ stetig\n",
    "- Titel: qualitativ nominal\n",
    "- Likes: quantitativ diskret\n",
    "- Shares: quantitativ diskret\n",
    "- Comments: quantitativ diskret\n",
    "- Duration: quantitativ stetig\n",
    "- Upload date: quantitativ diskret\n",
    "- Uploader: qualitativ nominal\n",
    "- Videoqualität: qualitativ ordinal\n",
    "\n",
    "### 1.2.2\n",
    "Views, Duration, Likes, Upload date"
   ]
  },
  {
   "cell_type": "markdown",
   "metadata": {},
   "source": [
    "## Aufgabe 1.3 - Wohnungsgrößen\n",
    "\n"
   ]
  },
  {
   "cell_type": "code",
   "execution_count": 4,
   "metadata": {},
   "outputs": [
    {
     "data": {
      "text/plain": [
       "array([1, 2, 3, 4, 5])"
      ]
     },
     "execution_count": 4,
     "metadata": {},
     "output_type": "execute_result"
    }
   ],
   "source": [
    "rooms = [3, 4, 5, 1, 5, 2, 1, 3, 1, 3]\n"
   ]
  },
  {
   "cell_type": "code",
   "execution_count": 20,
   "metadata": {},
   "outputs": [
    {
     "name": "stdout",
     "output_type": "stream",
     "text": [
      "Absolute Häufigkeit: [1 2 3 4 5]\n",
      "Relative Häufigkeit: [0.3 0.1 0.3 0.1 0.2]\n"
     ]
    }
   ],
   "source": [
    "# Absolute Häufigkeit\n",
    "freq_abs, freq_counts = np.unique(rooms, return_counts=True)\n",
    "print('Absolute Häufigkeit:', freq_abs)\n",
    "\n",
    "# Relative Häufigkeit\n",
    "freq_rel = freq_counts / len(rooms)\n",
    "print('Relative Häufigkeit:', freq_rel)"
   ]
  },
  {
   "cell_type": "code",
   "execution_count": 32,
   "metadata": {},
   "outputs": [
    {
     "data": {
      "text/plain": [
       "Text(0, 0.5, 'Absolute frequency')"
      ]
     },
     "execution_count": 32,
     "metadata": {},
     "output_type": "execute_result"
    },
    {
     "data": {
      "image/png": "[encoded data removed]",
      "text/plain": [
       "<Figure size 432x288 with 1 Axes>"
      ]
     },
     "metadata": {
      "needs_background": "light"
     },
     "output_type": "display_data"
    }
   ],
   "source": [
    "plt.hist(rooms)\n",
    "plt.title('No. of rooms in Konstanz')\n",
    "plt.xlabel('Rooms')\n",
    "plt.ylabel('Absolute frequency')"
   ]
  },
  {
   "cell_type": "code",
   "execution_count": 39,
   "metadata": {},
   "outputs": [
    {
     "data": {
      "text/plain": [
       "Text(0.5, 0, 'CFD')"
      ]
     },
     "execution_count": 39,
     "metadata": {},
     "output_type": "execute_result"
    },
    {
     "data": {
      "image/png": "[encoded data removed]",
      "text/plain": [
       "<Figure size 432x288 with 1 Axes>"
      ]
     },
     "metadata": {
      "needs_background": "light"
     },
     "output_type": "display_data"
    }
   ],
   "source": [
    "sns.ecdfplot(rooms)\n",
    "plt.xlabel('CFD')"
   ]
  }
 ],
 "metadata": {
  "interpreter": {
   "hash": "40d3a090f54c6569ab1632332b64b2c03c39dcf918b08424e98f38b5ae0af88f"
  },
  "kernelspec": {
   "display_name": "Python 3.8.8 ('base')",
   "language": "python",
   "name": "python3"
  },
  "language_info": {
   "codemirror_mode": {
    "name": "ipython",
    "version": 3
   },
   "file_extension": ".py",
   "mimetype": "text/x-python",
   "name": "python",
   "nbconvert_exporter": "python",
   "pygments_lexer": "ipython3",
   "version": "3.8.8"
  },
  "orig_nbformat": 4
 },
 "nbformat": 4,
 "nbformat_minor": 2
}
