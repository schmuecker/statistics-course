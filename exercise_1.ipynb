{
 "cells": [
  {
   "cell_type": "code",
   "execution_count": 5,
   "metadata": {},
   "outputs": [],
   "source": [
    "import numpy as np\n",
    "import matplotlib.pyplot as plt\n",
    "import seaborn as sns"
   ]
  },
  {
   "cell_type": "markdown",
   "metadata": {},
   "source": [
    "# Übungsblatt 1"
   ]
  },
  {
   "cell_type": "markdown",
   "metadata": {},
   "source": [
    "## Aufgabe 1.1 - TODO"
   ]
  },
  {
   "cell_type": "markdown",
   "metadata": {},
   "source": [
    "## Aufgabe 1.2 - Tiktok\n",
    "\n",
    "### 1.2.1\n",
    "\n",
    "Statistische Einheiten: ein Tiktok-Video\n",
    "\n",
    "Grundgesamtheit: alle Tiktok-Videos\n",
    "\n",
    "Stichprobe: Menge der untersuchten Tiktok-Videos\n",
    "\n",
    "Merkmale: \n",
    "- Views\n",
    "- Viewing Span\n",
    "- Titel\n",
    "- Likes\n",
    "- Shares\n",
    "- Comments\n",
    "- Duration\n",
    "- Upload date\n",
    "- Uploader\n",
    "- Videoqualität\n",
    "\n",
    "Beispielhafte Merkmalsausprägungen: \n",
    "- Views: 1.000.001\n",
    "- Viewing Span: 00:09 min\n",
    "- Titel: \"Perfekt\"\n",
    "- Likes: 14.000\n",
    "- Shares: 3.000\n",
    "- Comments: 1.000\n",
    "- Duration: 00:10 min\n",
    "- Upload date: 01.01.2022 10:00\n",
    "- Uploader: @benjimenji\n",
    "- Videoqualität: 720p\n",
    "\n",
    "Eigenschaften der Merkmale: \n",
    "- Views: quantitativ diskret\n",
    "- Viewing Span: quantitativ stetig\n",
    "- Titel: qualitativ nominal\n",
    "- Likes: quantitativ diskret\n",
    "- Shares: quantitativ diskret\n",
    "- Comments: quantitativ diskret\n",
    "- Duration: quantitativ stetig\n",
    "- Upload date: quantitativ diskret\n",
    "- Uploader: qualitativ nominal\n",
    "- Videoqualität: qualitativ ordinal\n",
    "\n",
    "### 1.2.2\n",
    "Views, Duration, Likes, Upload date"
   ]
  },
  {
   "cell_type": "markdown",
   "metadata": {},
   "source": [
    "## Aufgabe 1.3 - Wohnungsgrößen\n",
    "\n"
   ]
  },
  {
   "cell_type": "code",
   "execution_count": 6,
   "metadata": {},
   "outputs": [],
   "source": [
    "rooms = [3, 4, 5, 1, 5, 2, 1, 3, 1, 3]"
   ]
  },
  {
   "cell_type": "code",
   "execution_count": 14,
   "metadata": {},
   "outputs": [
    {
     "name": "stdout",
     "output_type": "stream",
     "text": [
      "Absolute Häufigkeit: [1 2 3 4 5] [3 1 3 1 2]\n",
      "Relative Häufigkeit: [1 2 3 4 5] [0.3 0.1 0.3 0.1 0.2]\n"
     ]
    }
   ],
   "source": [
    "# 1.3.1\n",
    "\n",
    "# Absolute Häufigkeit\n",
    "uniques, abs_counts = np.unique(rooms, return_counts=True)\n",
    "print('Absolute Häufigkeit:', uniques, abs_counts)\n",
    "\n",
    "# Relative Häufigkeit\n",
    "freq_rel = abs_counts / len(rooms)\n",
    "print('Relative Häufigkeit:', uniques, freq_rel)"
   ]
  },
  {
   "cell_type": "code",
   "execution_count": 8,
   "metadata": {},
   "outputs": [
    {
     "data": {
      "text/plain": [
       "Text(0, 0.5, 'Absolute frequency')"
      ]
     },
     "execution_count": 8,
     "metadata": {},
     "output_type": "execute_result"
    },
    {
     "data": {
      "image/png": "[encoded data removed]",
      "text/plain": [
       "<Figure size 432x288 with 1 Axes>"
      ]
     },
     "metadata": {
      "needs_background": "light"
     },
     "output_type": "display_data"
    }
   ],
   "source": [
    "# 1.3.2\n",
    "plt.hist(rooms)\n",
    "plt.title('No. of rooms in Konstanz')\n",
    "plt.xlabel('Rooms')\n",
    "plt.ylabel('Absolute frequency')"
   ]
  },
  {
   "cell_type": "code",
   "execution_count": 9,
   "metadata": {},
   "outputs": [
    {
     "data": {
      "text/plain": [
       "Text(0.5, 0, 'CFD')"
      ]
     },
     "execution_count": 9,
     "metadata": {},
     "output_type": "execute_result"
    },
    {
     "data": {
      "image/png": "[encoded data removed]",
      "text/plain": [
       "<Figure size 432x288 with 1 Axes>"
      ]
     },
     "metadata": {
      "needs_background": "light"
     },
     "output_type": "display_data"
    }
   ],
   "source": [
    "# 1.3.3 \n",
    "sns.ecdfplot(rooms)\n",
    "plt.xlabel('CFD')"
   ]
  },
  {
   "cell_type": "code",
   "execution_count": 18,
   "metadata": {},
   "outputs": [
    {
     "name": "stdout",
     "output_type": "stream",
     "text": [
      "Anteil der Befragten mit max. 4 Zimmern 0.8\n",
      "Anteil der Befragten mit min. 2 und max. 4 Zimmern 0.49999999999999994\n"
     ]
    }
   ],
   "source": [
    "# 1.3.4\n",
    "# a) 1 - f(5 Zimmer)\n",
    "print('Anteil der Befragten mit max. 4 Zimmern', 1 - freq_rel[4])\n",
    "\n",
    "# b) 1 - f(1 Zimmer) - f(5 Zimmer)\n",
    "print('Anteil der Befragten mit min. 2 und max. 4 Zimmern', 1 - freq_rel[0] - freq_rel[4])"
   ]
  },
  {
   "cell_type": "code",
   "execution_count": 28,
   "metadata": {},
   "outputs": [
    {
     "name": "stdout",
     "output_type": "stream",
     "text": [
      "data [1, 1, 1, 2, 3, 3, 3, 4, 5, 5]\n",
      "mean 2.8\n",
      "median 3.0\n",
      "mode [1, 3]\n",
      "25% quantile 1.0\n",
      "30% quantile 1.41\n",
      "66% quantile 3.26\n",
      "variance 2.4\n",
      "standard deviation 1.5491933384829668\n",
      "interquartile range 2.5\n",
      "span range 4\n"
     ]
    }
   ],
   "source": [
    "# 1.3.5\n",
    "\n",
    "import matplotlib.pyplot as plt\n",
    "from statistics import mean, multimode, median, quantiles, stdev, variance\n",
    "from scipy.stats import iqr\n",
    "\n",
    "print('data', rooms)\n",
    "print('mean', mean(rooms))\n",
    "print('median', median(rooms))\n",
    "print('mode', multimode(rooms))\n",
    "print('25% quantile', quantiles(rooms, n=100)[24])\n",
    "print('30% quantile', quantiles(rooms, n=100)[30])\n",
    "print('66% quantile', quantiles(rooms, n=100)[65])\n",
    "print('variance', variance(rooms))\n",
    "print('standard deviation', stdev(rooms))\n",
    "print('interquartile range', iqr(rooms))\n",
    "print('span range', max(rooms) - min(rooms))\n"
   ]
  }
 ],
 "metadata": {
  "kernelspec": {
   "display_name": "Python 3.8.9 64-bit",
   "language": "python",
   "name": "python3"
  },
  "language_info": {
   "codemirror_mode": {
    "name": "ipython",
    "version": 3
   },
   "file_extension": ".py",
   "mimetype": "text/x-python",
   "name": "python",
   "nbconvert_exporter": "python",
   "pygments_lexer": "ipython3",
   "version": "3.8.9"
  },
  "orig_nbformat": 4,
  "vscode": {
   "interpreter": {
    "hash": "31f2aee4e71d21fbe5cf8b01ff0e069b9275f58929596ceb00d14d90e3e16cd6"
   }
  }
 },
 "nbformat": 4,
 "nbformat_minor": 2
}
